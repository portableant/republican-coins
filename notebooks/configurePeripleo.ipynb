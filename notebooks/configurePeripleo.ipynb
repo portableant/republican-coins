{
 "cells": [
  {
   "cell_type": "markdown",
   "id": "395799f3-9b10-4936-9fc0-4911ef4cb94c",
   "metadata": {},
   "source": [
    "# Configuring Peripleo for Heritage at Risk demonstration\n",
    "\n",
    "This notebook talks through the steps to configure Peripleo for delivery of the Heritage at Risk visualisation. If you follow the steps for obtaining data in the other notebooks, you'll be in a good place.\n",
    "\n",
    "## The config file\n",
    "\n",
    "Peripleo has a config file located at:\n",
    "\n",
    "```docs/peripleo.config.json```\n",
    "\n",
    "This needs editing to look like this:\n",
    "\n"
   ]
  },
  {
   "cell_type": "markdown",
   "id": "2b266744-adf0-4de2-ae9b-b43c9133f421",
   "metadata": {},
   "source": [
    "```json\n",
    "{\n",
    "  \"initial_bounds\": [-5.79, 49.89, 1.78, 55.81],\n",
    "  \"map_style\": \"./map-style-OSM.json\",\n",
    "  \"welcome_message\": \"welcome.md\",\n",
    "  \"data\": [\n",
    "    {\n",
    "      \"name\": \"Heritage at Risk\",\n",
    "      \"format\": \"LINKED_PLACES\",\n",
    "      \"src\": \"./data/harLP.json\",\n",
    "      \"attribution\": \"Historic England OGL v3.0\"\n",
    "    }\n",
    "  ],\n",
    "  \"layers\": [\n",
    "    { \n",
    "      \"name\": \"Historic England Regions\", \n",
    "      \"type\": \"geojson\",\n",
    "      \"src\": \"./data/he_regions.geojson\", \n",
    "      \"color\": \"#000000\" \n",
    "    }\n",
    "  ],\n",
    "  \"facets\": [\n",
    "    {\n",
    "      \"name\": \"Site type\", \"path\": [\"properties\", \"siteType\"]\n",
    "    },\n",
    "    {\n",
    "      \"name\": \"County\", \"path\": [\"properties\", \"county\"]\n",
    "    },\n",
    "    {\n",
    "      \"name\": \"Site sub type\", \"path\": [\"properties\", \"siteSubType\"]\n",
    "    },\n",
    "    {\n",
    "      \"name\": \"Parliamentary Constituency\", \"path\": [\"properties\", \"parliamentaryConstituency\"]\n",
    "    },\n",
    "    {\n",
    "      \"name\": \"Region\", \"path\": [\"properties\", \"region\"]\n",
    "    },\n",
    "    {\n",
    "      \"name\": \"Assessment Type\", \"path\": [\"properties\", \"assessmentType\"]\n",
    "    },\n",
    "    {\n",
    "      \"name\": \"Condition\", \"path\": [\"properties\", \"condition\"]\n",
    "    },\n",
    "    {\n",
    "      \"name\": \"Priority\", \"path\": [\"properties\", \"priority\"]\n",
    "    },\n",
    "    {\n",
    "      \"name\": \"Heritage Category\", \"path\": [\"properties\", \"heritageCategory\"]\n",
    "    },\n",
    "    {\n",
    "      \"name\": \"Ownership\", \"path\": [\"properties\", \"ownership\"]\n",
    "    },\n",
    "    {\n",
    "      \"name\": \"Year first listed\", \"path\": [\"properties\", \"yearListed\"]\n",
    "    }\n",
    "  ],\n",
    "  \"link_icons\": [\n",
    "    { \"pattern\": \"historicengland.org.uk\", \"img\": \"./logos/HE.jpg\", \"label\": \"Historic England\" },\n",
    "    { \"pattern\": \"www.wikidata.org\", \"img\": \"./logos/www.wikidata.org.svg\", \"label\": \"Wikidata\" },\n",
    "    { \"pattern\": \"commons.wikimedia.org\", \"img\": \"./logos/Commons-logo-en.svg.png\", \"label\": \"Wikimedia Commons\" },\n",
    "    { \"pattern\": \"achurchnearyou.com\", \"img\":\"./logos/c_of_logo_v3.jpg\", \"label\": \"A Church Near You\" },\n",
    "    { \"pattern\": \"britishlistedbuildings.co.uk\", \"img\":\"./logos/britishlistedbuildings.jpg\", \"label\": \"British Listed Buildings\"},\n",
    "    { \"pattern\": \"wikipedia.org\", \"img\":\"./logos/en.wikipedia.org.png\", \"label\": \"Wikipedia\"}\n",
    "  ]\n",
    "}\n",
    "```"
   ]
  },
  {
   "cell_type": "markdown",
   "id": "c2dab022-65ef-4e09-96d8-a8e7c26ff2dc",
   "metadata": {},
   "source": [
    "Let's break this down into chunks to explain what it does.\n",
    "\n",
    "The first few lines look like this:\n",
    "\n",
    "\n",
    "    "
   ]
  },
  {
   "cell_type": "markdown",
   "id": "9cc6266d-8396-41cd-94e1-d22f05c13455",
   "metadata": {},
   "source": [
    "```json\n",
    "  \"initial_bounds\": [-5.79, 49.89, 1.78, 55.81],\n",
    "  \"map_style\": \"./map-style-OSM.json\",\n",
    "  \"welcome_message\": \"welcome.md\",\n",
    "```"
   ]
  },
  {
   "cell_type": "markdown",
   "id": "4980e4b0-a13d-4bea-9933-39d3559afae0",
   "metadata": {},
   "source": [
    "1. The first line configures the bounds of the map using lat lon pairs for the corners of the bounding box.\n",
    "2. The second line tells you which map style config file to use\n",
    "3. The third line tells you where to find the markdown file that configures the front screen loading message. This is a markdown file relative to the config.json file."
   ]
  },
  {
   "cell_type": "markdown",
   "id": "186f179d-2c99-4376-b382-6a9b4f52c3f4",
   "metadata": {},
   "source": [
    "## The data \n",
    "\n",
    "The map runs off the addition of Linked Places compatible JSON file generated in the earlier tutorial. To do this you need to configure the file correctly:\n",
    "\n",
    "```json\n",
    "\"data\": [\n",
    "    {\n",
    "      \"name\": \"Roman Republican Coins\",\n",
    "      \"format\": \"LINKED_PLACES\",\n",
    "      \"src\": \"./data/republican.geojson\",\n",
    "      \"attribution\": \"Roman Republican Coins CC-BY Portable Antiquities Scheme Contributors\"\n",
    "    }\n",
    "  ],\n",
    "```\n",
    "In this section we have given the data source a name, the format in use, the attribution to display on the map and the location relative to the file (SRC)."
   ]
  },
  {
   "cell_type": "markdown",
   "id": "61c26645-3458-49cb-8014-916108df9d99",
   "metadata": {},
   "source": [
    "## Facets\n",
    "\n",
    "The map search facets are configured off properties found in the JSON data added in the earlier step. This is a simple array taking the format shown:\n",
    "\n",
    "```json\n",
    "  \"facets\": [\n",
    "    {\n",
    "      \"name\": \"Denomination\", \"path\": [\"properties\", \"denomination\"]\n",
    "    },\n",
    "    {\n",
    "      \"name\": \"Mint\", \"path\": [\"properties\", \"mint\"]\n",
    "    },\n",
    "    {\n",
    "      \"name\": \"Issuer\", \"path\": [\"properties\", \"ruler\"]\n",
    "    },\n",
    "    {\n",
    "      \"name\": \"Moneyer\", \"path\": [\"properties\", \"moneyer\"]\n",
    "    },\n",
    "    {\n",
    "      \"name\": \"Material\", \"path\": [\"properties\", \"materialTerm\"]\n",
    "    }\n",
    "  ]\n",
    "```\n",
    "Each json entry has a name (the label you want to add) and path entry (where it is found in the json array - this time in properties) and the variable name. "
   ]
  },
  {
   "cell_type": "markdown",
   "id": "bca6c69f-82b8-4f11-b027-b1ecbf9f8086",
   "metadata": {},
   "source": [
    "## Image links for associated resources\n",
    "\n",
    "Depending on the originating organisations websites that you link to, you'll need to give them a pattern, and image location and a label following the json pattern below. For this project I linked to Pleiades, Nomisma and VIAF. Add any logos to /docs/logos/\n",
    "\n",
    "```json\n",
    "\"link_icons\": [\n",
    "    { \"pattern\": \"en.wikipedia.org\", \"img\": \"./logos/en.wikipedia.org.png\", \"label\": \"Wikipedia\" },\n",
    "    { \"pattern\": \"pleiades.stoa.org\", \"img\": \"./logos/pleiades.png\", \"label\": \"Pleiades\" },\n",
    "    { \"pattern\": \"nomisma.org\", \"img\": \"./logos/nomisma.png\", \"label\": \"Nomisma\" },\n",
    "    { \"pattern\": \"viaf.org\", \"img\": \"./logos/viaf.png\", \"label\": \"VIAF\" },\n",
    "    { \"pattern\": \"dbpedia.org\", \"img\": \"./logos/dbpedia.png\", \"label\": \"Dbpedia\" }\n",
    "  ]\n",
    "```"
   ]
  },
  {
   "cell_type": "markdown",
   "id": "45b55447-99ba-4702-95fd-f2b316c7155a",
   "metadata": {},
   "source": [
    "## Changing the favicon\n",
    "\n",
    "This is really simple, just change the favico.ico file in the root of docs to a file that you want to use, then make sure the index.html file has the correct \n",
    "path and image. "
   ]
  },
  {
   "cell_type": "markdown",
   "id": "fc5eea36-fa1b-43d8-8052-aac2f66bc45a",
   "metadata": {},
   "source": [
    "## Custom URL\n",
    "\n",
    "This can be achieved in two ways. Firstly by adding a CNAME file with a single line with your FQDN or secondly via the GitHub pages settings. "
   ]
  },
  {
   "cell_type": "markdown",
   "id": "3131fe49-5eff-40a8-b56a-4dec07e1480e",
   "metadata": {},
   "source": [
    "## Full configuration documentation\n",
    "\n",
    "To learn everything about Peripleo, you can read the full documentation on the British Library's [Locating a National Collection Peripleo site](https://github.com/britishlibrary/peripleo/blob/main/Configuration-Guide.md). "
   ]
  }
 ],
 "metadata": {
  "kernelspec": {
   "display_name": "JavaScript (Node.js)",
   "language": "javascript",
   "name": "javascript"
  },
  "language_info": {
   "file_extension": ".js",
   "mimetype": "application/javascript",
   "name": "javascript",
   "version": "20.10.0"
  }
 },
 "nbformat": 4,
 "nbformat_minor": 5
}
